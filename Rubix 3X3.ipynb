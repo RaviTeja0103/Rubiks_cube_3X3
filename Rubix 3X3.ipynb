{
 "cells": [
  {
   "cell_type": "markdown",
   "id": "micro-country",
   "metadata": {},
   "source": [
    "# Array Creation \n",
    "* Array of size 9X12\n",
    "* Filling with 'O'"
   ]
  },
  {
   "cell_type": "code",
   "execution_count": 1,
   "id": "lesser-difficulty",
   "metadata": {},
   "outputs": [],
   "source": [
    "\n",
    "a=[[\"\\u001b[47;1m   \",\"\\u001b[47;1m   \",\"\\u001b[47;1m   \",\"\\u001b[47;1m   \",\"\\u001b[47;1m   \",\"\\u001b[47;1m   \",\"\\u001b[47;1m   \",\"\\u001b[47;1m   \",\"\\u001b[47;1m   \"],\n",
    "   [\"\\u001b[47;1m   \",\"\\u001b[47;1m   \",\"\\u001b[47;1m   \",\"\\u001b[47;1m   \",\"\\u001b[47;1m   \",\"\\u001b[47;1m   \",\"\\u001b[47;1m   \",\"\\u001b[47;1m   \",\"\\u001b[47;1m   \"],\n",
    "   [\"\\u001b[47;1m   \",\"\\u001b[47;1m   \",\"\\u001b[47;1m   \",\"\\u001b[47;1m   \",\"\\u001b[47;1m   \",\"\\u001b[47;1m   \",\"\\u001b[47;1m   \",\"\\u001b[47;1m   \",\"\\u001b[47;1m   \"],\n",
    "   [\"\\u001b[47;1m   \",\"\\u001b[47;1m   \",\"\\u001b[47;1m   \",\"\\u001b[47;1m   \",\"\\u001b[47;1m   \",\"\\u001b[47;1m   \",\"\\u001b[47;1m   \",\"\\u001b[47;1m   \",\"\\u001b[47;1m   \"],\n",
    "   [\"\\u001b[47;1m   \",\"\\u001b[47;1m   \",\"\\u001b[47;1m   \",\"\\u001b[47;1m   \",\"\\u001b[47;1m   \",\"\\u001b[47;1m   \",\"\\u001b[47;1m   \",\"\\u001b[47;1m   \",\"\\u001b[47;1m   \"],\n",
    "   [\"\\u001b[47;1m   \",\"\\u001b[47;1m   \",\"\\u001b[47;1m   \",\"\\u001b[47;1m   \",\"\\u001b[47;1m   \",\"\\u001b[47;1m   \",\"\\u001b[47;1m   \",\"\\u001b[47;1m   \",\"\\u001b[47;1m   \"],\n",
    "   [\"\\u001b[47;1m   \",\"\\u001b[47;1m   \",\"\\u001b[47;1m   \",\"\\u001b[47;1m   \",\"\\u001b[47;1m   \",\"\\u001b[47;1m   \",\"\\u001b[47;1m   \",\"\\u001b[47;1m   \",\"\\u001b[47;1m   \"],\n",
    "   [\"\\u001b[47;1m   \",\"\\u001b[47;1m   \",\"\\u001b[47;1m   \",\"\\u001b[47;1m   \",\"\\u001b[47;1m   \",\"\\u001b[47;1m   \",\"\\u001b[47;1m   \",\"\\u001b[47;1m   \",\"\\u001b[47;1m   \"],\n",
    "   [\"\\u001b[47;1m   \",\"\\u001b[47;1m   \",\"\\u001b[47;1m   \",\"\\u001b[47;1m   \",\"\\u001b[47;1m   \",\"\\u001b[47;1m   \",\"\\u001b[47;1m   \",\"\\u001b[47;1m   \",\"\\u001b[47;1m   \"],\n",
    "   [\"\\u001b[47;1m   \",\"\\u001b[47;1m   \",\"\\u001b[47;1m   \",\"\\u001b[47;1m   \",\"\\u001b[47;1m   \",\"\\u001b[47;1m   \",\"\\u001b[47;1m   \",\"\\u001b[47;1m   \",\"\\u001b[47;1m   \"],\n",
    "   [\"\\u001b[47;1m   \",\"\\u001b[47;1m   \",\"\\u001b[47;1m   \",\"\\u001b[47;1m   \",\"\\u001b[47;1m   \",\"\\u001b[47;1m   \",\"\\u001b[47;1m   \",\"\\u001b[47;1m   \",\"\\u001b[47;1m   \"],\n",
    "   [\"\\u001b[47;1m   \",\"\\u001b[47;1m   \",\"\\u001b[47;1m   \",\"\\u001b[47;1m   \",\"\\u001b[47;1m   \",\"\\u001b[47;1m   \",\"\\u001b[47;1m   \",\"\\u001b[47;1m   \",\"\\u001b[47;1m   \"],\n",
    "]\n"
   ]
  },
  {
   "cell_type": "markdown",
   "id": "commercial-break",
   "metadata": {},
   "source": [
    "#  Filling colours in all faces function \n"
   ]
  },
  {
   "cell_type": "code",
   "execution_count": 2,
   "id": "bottom-guess",
   "metadata": {},
   "outputs": [],
   "source": [
    "def FillFace(a,f,k):\n",
    "    fac={1:[0,3],2:[3,0],3:[3,3],4:[3,6],5:[6,3],6:[9,3]}\n",
    "    z=fac[f]\n",
    "    for i in range(0,3):\n",
    "        for j in range(0,3):\n",
    "            a[z[0]+i][z[1]+j]=k\n",
    "FillFace(a,2,'\\u001b[41;1m R ')\n",
    "FillFace(a,1,'\\u001b[44;1m B ')\n",
    "FillFace(a,3,'\\u001b[42;1m G ')\n",
    "FillFace(a,4,'\\u001b[43;1m Y ')\n",
    "FillFace(a,5,'\\u001b[46;1m V ')\n",
    "FillFace(a,6,'\\u001b[40;1m W ')\n"
   ]
  },
  {
   "cell_type": "markdown",
   "id": "bda9011f-1beb-41c8-9777-31fc5bf3afe6",
   "metadata": {},
   "source": [
    "# Modules"
   ]
  },
  {
   "cell_type": "code",
   "execution_count": 3,
   "id": "52c37c8a-4859-423d-a206-29242ae86b61",
   "metadata": {},
   "outputs": [],
   "source": [
    "import sys\n",
    "import random as rd\n",
    "import time\n",
    "import copy\n",
    "import numpy as np\n",
    "a = np.array(a)"
   ]
  },
  {
   "cell_type": "markdown",
   "id": "behind-going",
   "metadata": {},
   "source": [
    "# Printing Cube"
   ]
  },
  {
   "cell_type": "code",
   "execution_count": 4,
   "id": "sharing-challenge",
   "metadata": {},
   "outputs": [
    {
     "name": "stdout",
     "output_type": "stream",
     "text": [
      "\u001b[47;1m   \u001b[47;1m   \u001b[47;1m   \u001b[44;1m B \u001b[44;1m B \u001b[44;1m B \u001b[47;1m   \u001b[47;1m   \u001b[47;1m   \n",
      "\n",
      "\u001b[47;1m   \u001b[47;1m   \u001b[47;1m   \u001b[44;1m B \u001b[44;1m B \u001b[44;1m B \u001b[47;1m   \u001b[47;1m   \u001b[47;1m   \n",
      "\n",
      "\u001b[47;1m   \u001b[47;1m   \u001b[47;1m   \u001b[44;1m B \u001b[44;1m B \u001b[44;1m B \u001b[47;1m   \u001b[47;1m   \u001b[47;1m   \n",
      "\n",
      "\u001b[41;1m R \u001b[41;1m R \u001b[41;1m R \u001b[42;1m G \u001b[42;1m G \u001b[42;1m G \u001b[43;1m Y \u001b[43;1m Y \u001b[43;1m Y \n",
      "\n",
      "\u001b[41;1m R \u001b[41;1m R \u001b[41;1m R \u001b[42;1m G \u001b[42;1m G \u001b[42;1m G \u001b[43;1m Y \u001b[43;1m Y \u001b[43;1m Y \n",
      "\n",
      "\u001b[41;1m R \u001b[41;1m R \u001b[41;1m R \u001b[42;1m G \u001b[42;1m G \u001b[42;1m G \u001b[43;1m Y \u001b[43;1m Y \u001b[43;1m Y \n",
      "\n",
      "\u001b[47;1m   \u001b[47;1m   \u001b[47;1m   \u001b[46;1m V \u001b[46;1m V \u001b[46;1m V \u001b[47;1m   \u001b[47;1m   \u001b[47;1m   \n",
      "\n",
      "\u001b[47;1m   \u001b[47;1m   \u001b[47;1m   \u001b[46;1m V \u001b[46;1m V \u001b[46;1m V \u001b[47;1m   \u001b[47;1m   \u001b[47;1m   \n",
      "\n",
      "\u001b[47;1m   \u001b[47;1m   \u001b[47;1m   \u001b[46;1m V \u001b[46;1m V \u001b[46;1m V \u001b[47;1m   \u001b[47;1m   \u001b[47;1m   \n",
      "\n",
      "\u001b[47;1m   \u001b[47;1m   \u001b[47;1m   \u001b[40;1m W \u001b[40;1m W \u001b[40;1m W \u001b[47;1m   \u001b[47;1m   \u001b[47;1m   \n",
      "\n",
      "\u001b[47;1m   \u001b[47;1m   \u001b[47;1m   \u001b[40;1m W \u001b[40;1m W \u001b[40;1m W \u001b[47;1m   \u001b[47;1m   \u001b[47;1m   \n",
      "\n",
      "\u001b[47;1m   \u001b[47;1m   \u001b[47;1m   \u001b[40;1m W \u001b[40;1m W \u001b[40;1m W \u001b[47;1m   \u001b[47;1m   \u001b[47;1m   \n",
      "\n"
     ]
    }
   ],
   "source": [
    "def Show(a):\n",
    "    for i in a:\n",
    "        for j in i:\n",
    "            sys.stdout.write(j)\n",
    "        print('\\n')\n",
    "Show(a)"
   ]
  },
  {
   "cell_type": "markdown",
   "id": "documented-broad",
   "metadata": {},
   "source": [
    "# Rotation functions"
   ]
  },
  {
   "cell_type": "code",
   "execution_count": 5,
   "id": "independent-cannon",
   "metadata": {},
   "outputs": [
    {
     "name": "stdout",
     "output_type": "stream",
     "text": [
      "\u001b[47;1m   \u001b[47;1m   \u001b[47;1m   \u001b[44;1m B \u001b[44;1m B \u001b[44;1m B \u001b[47;1m   \u001b[47;1m   \u001b[47;1m   \n",
      "\n",
      "\u001b[47;1m   \u001b[47;1m   \u001b[47;1m   \u001b[44;1m B \u001b[44;1m B \u001b[44;1m B \u001b[47;1m   \u001b[47;1m   \u001b[47;1m   \n",
      "\n",
      "\u001b[47;1m   \u001b[47;1m   \u001b[47;1m   \u001b[44;1m B \u001b[44;1m B \u001b[44;1m B \u001b[47;1m   \u001b[47;1m   \u001b[47;1m   \n",
      "\n",
      "\u001b[41;1m R \u001b[41;1m R \u001b[41;1m R \u001b[42;1m G \u001b[42;1m G \u001b[42;1m G \u001b[43;1m Y \u001b[43;1m Y \u001b[43;1m Y \n",
      "\n",
      "\u001b[41;1m R \u001b[41;1m R \u001b[41;1m R \u001b[42;1m G \u001b[42;1m G \u001b[42;1m G \u001b[43;1m Y \u001b[43;1m Y \u001b[43;1m Y \n",
      "\n",
      "\u001b[41;1m R \u001b[41;1m R \u001b[41;1m R \u001b[42;1m G \u001b[42;1m G \u001b[42;1m G \u001b[43;1m Y \u001b[43;1m Y \u001b[43;1m Y \n",
      "\n",
      "\u001b[47;1m   \u001b[47;1m   \u001b[47;1m   \u001b[46;1m V \u001b[46;1m V \u001b[46;1m V \u001b[47;1m   \u001b[47;1m   \u001b[47;1m   \n",
      "\n",
      "\u001b[47;1m   \u001b[47;1m   \u001b[47;1m   \u001b[46;1m V \u001b[46;1m V \u001b[46;1m V \u001b[47;1m   \u001b[47;1m   \u001b[47;1m   \n",
      "\n",
      "\u001b[47;1m   \u001b[47;1m   \u001b[47;1m   \u001b[46;1m V \u001b[46;1m V \u001b[46;1m V \u001b[47;1m   \u001b[47;1m   \u001b[47;1m   \n",
      "\n",
      "\u001b[47;1m   \u001b[47;1m   \u001b[47;1m   \u001b[40;1m W \u001b[40;1m W \u001b[40;1m W \u001b[47;1m   \u001b[47;1m   \u001b[47;1m   \n",
      "\n",
      "\u001b[47;1m   \u001b[47;1m   \u001b[47;1m   \u001b[40;1m W \u001b[40;1m W \u001b[40;1m W \u001b[47;1m   \u001b[47;1m   \u001b[47;1m   \n",
      "\n",
      "\u001b[47;1m   \u001b[47;1m   \u001b[47;1m   \u001b[40;1m W \u001b[40;1m W \u001b[40;1m W \u001b[47;1m   \u001b[47;1m   \u001b[47;1m   \n",
      "\n"
     ]
    }
   ],
   "source": [
    "### Right UP ###\n",
    "def RU(a):\n",
    "    temp=a[0][5]\n",
    "    for i in range(0,11):\n",
    "        a[i][5]=a[i+1][5]\n",
    "    a[11][5]=temp\n",
    "    \n",
    "### Right DOWN ###\n",
    "def RD(a):\n",
    "    temp=a[11][5]\n",
    "    for i in range(0,11):\n",
    "        a[11-i][5]=a[10-i][5]\n",
    "    a[0][5]=temp\n",
    "    \n",
    "### Left UP ###    \n",
    "def LU(a):\n",
    "    temp=a[0][3]\n",
    "    for i in range(0,11):\n",
    "        a[i][3]=a[i+1][3]\n",
    "    a[11][3]=temp\n",
    "    \n",
    "### Left DOWN ###\n",
    "def LD(a):\n",
    "    temp=a[11][3]\n",
    "    for i in range(0,11):\n",
    "        a[11-i][3]=a[10-i][3]\n",
    "    a[0][3]=temp\n",
    "    \n",
    "### Up RIGHT ###\n",
    "def UR(a):\n",
    "    temp=a[3][8]\n",
    "    for i in range(0,8):\n",
    "        a[3][8-i]=a[3][7-i]\n",
    "    a[3][0]=a[11][3]\n",
    "    a[11][3]=a[11][4]\n",
    "    a[11][4]=a[11][5]\n",
    "    a[11][5]=temp    \n",
    "    \n",
    "### Up LEFT ###\n",
    "def UL(a):\n",
    "    temp=a[3][0]\n",
    "    for i in range(0,8):\n",
    "        a[3][i]=a[3][i+1]\n",
    "    a[3][8]=a[11][5]\n",
    "    a[11][5]=a[11][4]\n",
    "    a[11][4]=a[11][3]\n",
    "    a[11][3]=temp \n",
    "\n",
    "### Down RIGHT ###\n",
    "def DR(a):\n",
    "    temp=a[5][8]\n",
    "    for i in range(0,8):\n",
    "        a[5][8-i]=a[5][7-i]\n",
    "    a[5][0]=a[9][3]\n",
    "    a[9][3]=a[9][4]\n",
    "    a[9][4]=a[9][5]\n",
    "    a[9][5]=temp    \n",
    "    \n",
    "### Down LEFT ###\n",
    "def DL(a):\n",
    "    temp=a[5][0]\n",
    "    for i in range(0,8):\n",
    "        a[5][i]=a[5][i+1]\n",
    "    a[5][8]=a[9][5]\n",
    "    a[9][5]=a[9][4]\n",
    "    a[9][4]=a[9][3]\n",
    "    a[9][3]=temp \n",
    "\n",
    "### Face RIGHT ###\n",
    "def FR(a):\n",
    "    for i in range(2,7):\n",
    "        for j in range(i,7):\n",
    "            temp=a[i][j]\n",
    "            a[i][j] = a[j][i]\n",
    "            a[j][i] = temp\n",
    "    for i in range(2,7):\n",
    "        for j in range(2,4):\n",
    "            temp = a[i][j]\n",
    "            a[i][j] = a[i][8-j]\n",
    "            a[i][8-j] = temp\n",
    "\n",
    "\n",
    "### Face LEFT ###\n",
    "def FL(a):\n",
    "    for i in range(2,7):\n",
    "        for j in range(i,7):\n",
    "            temp=a[i][j]\n",
    "            a[i][j] = a[j][i]\n",
    "            a[j][i] = temp\n",
    "    \n",
    "    for i in range(2,4):\n",
    "        for j in range(2,7):\n",
    "            temp = a[i][j]\n",
    "            a[i][j] = a[8 - i][j]\n",
    "            a[8 - i][j] = temp\n",
    "    \n",
    "#FR(a)\n",
    "#FL(a)\n",
    "#RD(a)\n",
    "#LU(a)\n",
    "#LD(a)\n",
    "#UR(a)\n",
    "#UL(a)\n",
    "#DR(a)\n",
    "#DL(a)\n",
    "Show(a)"
   ]
  },
  {
   "cell_type": "markdown",
   "id": "ae9279be-237f-46bf-8a48-95fbab1195b3",
   "metadata": {},
   "source": [
    "# Shuffle The Cube"
   ]
  },
  {
   "cell_type": "code",
   "execution_count": 6,
   "id": "subjective-conflict",
   "metadata": {},
   "outputs": [
    {
     "name": "stdout",
     "output_type": "stream",
     "text": [
      "\u001b[47;1m   \u001b[47;1m   \u001b[47;1m   \u001b[40;1m W \u001b[44;1m B \u001b[44;1m B \u001b[47;1m   \u001b[47;1m   \u001b[47;1m   \n",
      "\n",
      "\u001b[47;1m   \u001b[47;1m   \u001b[47;1m   \u001b[44;1m B \u001b[44;1m B \u001b[44;1m B \u001b[47;1m   \u001b[47;1m   \u001b[47;1m   \n",
      "\n",
      "\u001b[47;1m   \u001b[47;1m   \u001b[47;1m   \u001b[44;1m B \u001b[43;1m Y \u001b[43;1m Y \u001b[47;1m   \u001b[47;1m   \u001b[47;1m   \n",
      "\n",
      "\u001b[41;1m R \u001b[41;1m R \u001b[44;1m B \u001b[43;1m Y \u001b[42;1m G \u001b[42;1m G \u001b[46;1m V \u001b[43;1m Y \u001b[43;1m Y \n",
      "\n",
      "\u001b[41;1m R \u001b[41;1m R \u001b[44;1m B \u001b[42;1m G \u001b[42;1m G \u001b[42;1m G \u001b[46;1m V \u001b[43;1m Y \u001b[43;1m Y \n",
      "\n",
      "\u001b[41;1m R \u001b[41;1m R \u001b[44;1m B \u001b[42;1m G \u001b[42;1m G \u001b[42;1m G \u001b[46;1m V \u001b[43;1m Y \u001b[43;1m Y \n",
      "\n",
      "\u001b[47;1m   \u001b[47;1m   \u001b[47;1m   \u001b[42;1m G \u001b[41;1m R \u001b[41;1m R \u001b[47;1m   \u001b[47;1m   \u001b[47;1m   \n",
      "\n",
      "\u001b[47;1m   \u001b[47;1m   \u001b[47;1m   \u001b[41;1m R \u001b[46;1m V \u001b[46;1m V \u001b[47;1m   \u001b[47;1m   \u001b[47;1m   \n",
      "\n",
      "\u001b[47;1m   \u001b[47;1m   \u001b[47;1m   \u001b[46;1m V \u001b[46;1m V \u001b[46;1m V \u001b[47;1m   \u001b[47;1m   \u001b[47;1m   \n",
      "\n",
      "\u001b[47;1m   \u001b[47;1m   \u001b[47;1m   \u001b[46;1m V \u001b[40;1m W \u001b[40;1m W \u001b[47;1m   \u001b[47;1m   \u001b[47;1m   \n",
      "\n",
      "\u001b[47;1m   \u001b[47;1m   \u001b[47;1m   \u001b[40;1m W \u001b[40;1m W \u001b[40;1m W \u001b[47;1m   \u001b[47;1m   \u001b[47;1m   \n",
      "\n",
      "\u001b[47;1m   \u001b[47;1m   \u001b[47;1m   \u001b[40;1m W \u001b[40;1m W \u001b[40;1m W \u001b[47;1m   \u001b[47;1m   \u001b[47;1m   \n",
      "\n"
     ]
    }
   ],
   "source": [
    "funs = [RU,RD,LU,LD,DR,DL,UR,UL,FR,FL]\n",
    "for i in range(4):\n",
    "    res = rd.randint(0,9)\n",
    "    funs[res](a)\n",
    "Show(a)"
   ]
  },
  {
   "cell_type": "markdown",
   "id": "bf5e39f0-60aa-4b81-bed4-6e58509b95ad",
   "metadata": {},
   "source": [
    "# Solution Cube"
   ]
  },
  {
   "cell_type": "markdown",
   "id": "405046ec-d282-4db8-8a1a-2731b8fca5d4",
   "metadata": {},
   "source": [
    "* Check Function"
   ]
  },
  {
   "cell_type": "code",
   "execution_count": 7,
   "id": "9cca37ce-6245-4038-a155-4b08eab7b7a1",
   "metadata": {},
   "outputs": [],
   "source": [
    "def check(cube):\n",
    "    r = [0,3,3,3,6,9]\n",
    "    c = [3,0,3,6,3,3]\n",
    "    for i in range(6):\n",
    "        test = cube[r[i]][c[i]]\n",
    "        for j in range(r[i],r[i]+3):\n",
    "            for k in range(c[i],c[i]+3):\n",
    "                if test != cube[j][k]:\n",
    "                    return False\n",
    "    return True"
   ]
  },
  {
   "cell_type": "markdown",
   "id": "8aa8c8e2-dd0e-44d8-b62d-03cc0c3d685d",
   "metadata": {},
   "source": [
    "* Array to String Function"
   ]
  },
  {
   "cell_type": "code",
   "execution_count": 8,
   "id": "77ec8112-ac4c-4ada-9891-b625e7dc1cb7",
   "metadata": {},
   "outputs": [],
   "source": [
    "def ats(temp):\n",
    "    t =\"\"\n",
    "    for i in range(12):\n",
    "        for j in range(9):\n",
    "            t = t + temp[i][j]\n",
    "    return t;"
   ]
  },
  {
   "cell_type": "markdown",
   "id": "6ec56b1b-7d68-4a3f-b3dd-1d60d713a86d",
   "metadata": {},
   "source": [
    "* solve"
   ]
  },
  {
   "cell_type": "code",
   "execution_count": 9,
   "id": "915e16b5-35d4-4843-9116-0946389cdeb5",
   "metadata": {},
   "outputs": [],
   "source": [
    "def solve(cube):\n",
    "    que = [[copy.deepcopy(cube),\"\"]]\n",
    "    vis = [ats(cube)]\n",
    "    while True:\n",
    "        temp_cube = copy.deepcopy(que[0][0])\n",
    "        temp_str = copy.deepcopy(que[0][1])\n",
    "        que.pop(0)\n",
    "        #time.sleep(1)\n",
    "        #print(\"---------------------------------------------\")\n",
    "        #Show(temp_cube)\n",
    "        for i in funs:\n",
    "            temp = copy.deepcopy(temp_cube)\n",
    "            if check(temp):\n",
    "                return temp_str\n",
    "            i(temp)\n",
    "            if ats(temp) in vis:\n",
    "                continue\n",
    "            que.append([copy.deepcopy(temp),temp_str+\"->\"+str(i)[10:12]])\n",
    "            vis.append(ats(temp))\n",
    "    return cube"
   ]
  },
  {
   "cell_type": "markdown",
   "id": "bce4dde3-eb58-4903-934f-ca4bdc7eed86",
   "metadata": {},
   "source": [
    "* Manul shuffel"
   ]
  },
  {
   "cell_type": "code",
   "execution_count": 10,
   "id": "fde06000-3a0a-4fa5-b77e-4a17b07e69c9",
   "metadata": {},
   "outputs": [],
   "source": [
    "\n",
    "#Show(a)"
   ]
  },
  {
   "cell_type": "code",
   "execution_count": 11,
   "id": "31ff485e-6805-47f3-a0f1-70face2af1a2",
   "metadata": {},
   "outputs": [
    {
     "data": {
      "text/plain": [
       "'->LU->FR'"
      ]
     },
     "execution_count": 11,
     "metadata": {},
     "output_type": "execute_result"
    }
   ],
   "source": [
    "ans = solve(a)\n",
    "ans"
   ]
  },
  {
   "cell_type": "code",
   "execution_count": null,
   "id": "d09f9594-b40d-4ca5-b42c-9abb52912831",
   "metadata": {},
   "outputs": [],
   "source": []
  }
 ],
 "metadata": {
  "kernelspec": {
   "display_name": "Python 3 (ipykernel)",
   "language": "python",
   "name": "python3"
  },
  "language_info": {
   "codemirror_mode": {
    "name": "ipython",
    "version": 3
   },
   "file_extension": ".py",
   "mimetype": "text/x-python",
   "name": "python",
   "nbconvert_exporter": "python",
   "pygments_lexer": "ipython3",
   "version": "3.12.1"
  }
 },
 "nbformat": 4,
 "nbformat_minor": 5
}
